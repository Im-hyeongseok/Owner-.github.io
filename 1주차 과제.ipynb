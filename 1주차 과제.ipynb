{
  "nbformat": 4,
  "nbformat_minor": 0,
  "metadata": {
    "colab": {
      "name": "Untitled0.ipynb",
      "provenance": [],
      "include_colab_link": true
    },
    "kernelspec": {
      "name": "python3",
      "display_name": "Python 3"
    }
  },
  "cells": [
    {
      "cell_type": "markdown",
      "metadata": {
        "id": "view-in-github",
        "colab_type": "text"
      },
      "source": [
        "<a href=\"https://colab.research.google.com/github/Im-hyeongseok/Owner-.github.io/blob/master/1%EC%A3%BC%EC%B0%A8%20%EA%B3%BC%EC%A0%9C.ipynb\" target=\"_parent\"><img src=\"https://colab.research.google.com/assets/colab-badge.svg\" alt=\"Open In Colab\"/></a>"
      ]
    },
    {
      "cell_type": "code",
      "metadata": {
        "id": "MwJ8CrVZBjGe",
        "colab_type": "code",
        "colab": {}
      },
      "source": [
        ""
      ],
      "execution_count": 0,
      "outputs": []
    },
    {
      "cell_type": "markdown",
      "metadata": {
        "id": "gSAuXVNqBoNu",
        "colab_type": "text"
      },
      "source": [
        "언어 인공지능 서비스:구글 번역기,네이버 파파고 번역기\n",
        "\n",
        "음성 인공지능 서비스:구글 어시스턴트,skt 누구,아마존 에코닷,마이크로소프트 코타나\n",
        "\n",
        "이미지 인공지능 서비스:LG CNS가 개발한 AI보안요원,한화시스템 차량 수리비 산출 서비스\n",
        "\n",
        "자율주행 제품:구글 자율주행차,우버 자율주행차"
      ]
    }
  ]
}